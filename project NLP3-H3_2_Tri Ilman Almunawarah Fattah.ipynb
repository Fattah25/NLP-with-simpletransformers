{
 "cells": [
  {
   "cell_type": "code",
   "execution_count": 1,
   "id": "51bca087",
   "metadata": {},
   "outputs": [
    {
     "name": "stdout",
     "output_type": "stream",
     "text": [
      "                                                   text\n",
      "1657            3 Pasar di Kota Bandung Ditutup 14 Hari\n",
      "2893  Pengunggah Video Dokter Tanpa Busana di Suraba...\n",
      "2763  Soroti CFD DKI, Muhadjir: Kalau Ada yang Kuran...\n",
      "954   Penyajian Data ODP dan PDP Tak Lagi Menampilka...\n",
      "1567  Jadi Juru Bicara Covid-19, Ini 6 Potret Terbar...\n",
      "...                                                 ...\n",
      "3164  Relawan Perempuan Jadi Salah Satu Kunci Sukses...\n",
      "3111  Warga Mana Menghabiskan Waktu Terlama di Media...\n",
      "842   Isu Dugaan Konspirasi Covid-19, Ini kata Peneliti\n",
      "84    Jelang New Normal, Polda Sumut Siapkan Video C...\n",
      "48                          Idulfitri di Tengah Pandemi\n",
      "\n",
      "[2590 rows x 1 columns]\n",
      "                                                   text\n",
      "17    Sekuel Film Sonic the Hedgehog dalam Tahap Pen...\n",
      "18        7 Tips Aman dan Bersih Mengolah Jamu di Rumah\n",
      "67    Pakai Masker di Rumah Bisa Kurangi Penyebaran ...\n",
      "73    Dibunuh Polisi AS, George Floyd Dikenal Sebaga...\n",
      "76         NASA Tunda Peluncuran Roket SpaceX Elon Musk\n",
      "...                                                 ...\n",
      "3206  Laut China Selatan Memanas, Moeldoko : Indones...\n",
      "3209  Kemendikbud: Kerjasama dengan Netflix Tak Guna...\n",
      "3215  Beri Ucapan HUT Jakarta, Ahok Pamer Hasil Kary...\n",
      "3222    Suami Vanessa Angel Prioritaskan Kebutuhan Anak\n",
      "3228  Siapa Nus Kei? Pemilik Rumah di Green Lake Cit...\n",
      "\n",
      "[647 rows x 1 columns]\n"
     ]
    }
   ],
   "source": [
    "import pandas as pd\n",
    "import numpy as np \n",
    "import cleantext\n",
    "\n",
    "file_loc = \"clickbait.csv\"\n",
    "df = pd.read_csv(file_loc, index_col=None,\n",
    "                usecols=['text'])\n",
    "\n",
    "df['text'].apply(lambda x: cleantext.clean(\n",
    "    x,\n",
    "    punct=True,\n",
    "    extra_spaces=True,\n",
    "    numbers=True,\n",
    "    lowercase=True,\n",
    "    stemming=False,\n",
    "    stopwords=True,\n",
    "    stp_lang='indonesian' #stopword bahasa Indonesia\n",
    "))\n",
    "\n",
    "train_df = df.sample(frac=0.8, random_state=200)\n",
    "eval_df = df.drop(train_df.index)\n",
    "\n",
    "print(train_df)\n",
    "print(eval_df)\n",
    "\n",
    "train_df.to_csv('./dataset/train.txt', index=False, header=False)\n",
    "eval_df.to_csv('./dataset/test.txt', index=False, header=False) #menyimpan data test"
   ]
  },
  {
   "cell_type": "code",
   "execution_count": 2,
   "id": "2654b46f",
   "metadata": {},
   "outputs": [
    {
     "name": "stderr",
     "output_type": "stream",
     "text": [
      "2023-08-09 12:32:34.907672: I tensorflow/core/platform/cpu_feature_guard.cc:182] This TensorFlow binary is optimized to use available CPU instructions in performance-critical operations.\n",
      "To enable the following instructions: SSE4.1 SSE4.2 AVX AVX2 FMA, in other operations, rebuild TensorFlow with the appropriate compiler flags.\n"
     ]
    },
    {
     "name": "stdout",
     "output_type": "stream",
     "text": [
      "\n",
      "\n",
      "\n",
      "Set model.. OK\n"
     ]
    }
   ],
   "source": [
    "import torch\n",
    "import os\n",
    "from simpletransformers.language_modeling import (\n",
    "    LanguageModelingModel,\n",
    "    LanguageModelingArgs,\n",
    ")\n",
    "\n",
    "os.environ[\n",
    "    \"TOKENIZERS_PARALLELISM\"] = \"false\"\n",
    "\n",
    "model_args = LanguageModelingArgs()\n",
    "model_args.reprocess_input_data = True\n",
    "model_args.overwrite_output_dir = True\n",
    "model_args.num_train_epochs = 1\n",
    "model_args.learning_rate = 5e-5\n",
    "model_args.dataset_type = \"simple\"\n",
    "model_args.vocab_size = 32000\n",
    "\n",
    "train_file = \"dataset/train.txt\"\n",
    "test_file = \"dataset/test.txt\"\n",
    "\n",
    "model = LanguageModelingModel(\"bert\",\n",
    "                             None,\n",
    "                             args=model_args,\n",
    "                             train_files=train_file,\n",
    "                             use_cuda=False)\n",
    "print('Set model.. OK')"
   ]
  },
  {
   "cell_type": "code",
   "execution_count": null,
   "id": "35a9a189",
   "metadata": {},
   "outputs": [
    {
     "data": {
      "application/vnd.jupyter.widget-view+json": {
       "model_id": "8d850163a4284a559188ee4400b2b306",
       "version_major": 2,
       "version_minor": 0
      },
      "text/plain": [
       "  0%|          | 0/2592 [00:00<?, ?it/s]"
      ]
     },
     "metadata": {},
     "output_type": "display_data"
    },
    {
     "data": {
      "application/vnd.jupyter.widget-view+json": {
       "model_id": "1c281dfe75cb4e5a85df4207c3e70ace",
       "version_major": 2,
       "version_minor": 0
      },
      "text/plain": [
       "  0%|          | 0/557 [00:00<?, ?it/s]"
      ]
     },
     "metadata": {},
     "output_type": "display_data"
    },
    {
     "data": {
      "application/vnd.jupyter.widget-view+json": {
       "model_id": "9a8b228cf55343e0beb241a46e9500f7",
       "version_major": 2,
       "version_minor": 0
      },
      "text/plain": [
       "Epoch:   0%|          | 0/1 [00:00<?, ?it/s]"
      ]
     },
     "metadata": {},
     "output_type": "display_data"
    },
    {
     "data": {
      "application/vnd.jupyter.widget-view+json": {
       "model_id": "2f7aff25f4814013a7119a01f189a323",
       "version_major": 2,
       "version_minor": 0
      },
      "text/plain": [
       "Running Epoch 0 of 1:   0%|          | 0/70 [00:00<?, ?it/s]"
      ]
     },
     "metadata": {},
     "output_type": "display_data"
    }
   ],
   "source": [
    "model.train_model(train_file, eval_file=test_file)"
   ]
  },
  {
   "cell_type": "code",
   "execution_count": null,
   "id": "d2b6b1b6",
   "metadata": {},
   "outputs": [],
   "source": [
    "# Evaluate the model\n",
    "result = model.eval_model(test_file)\n",
    "\n",
    "print(result)"
   ]
  }
 ],
 "metadata": {
  "kernelspec": {
   "display_name": "Python 3 (ipykernel)",
   "language": "python",
   "name": "python3"
  },
  "language_info": {
   "codemirror_mode": {
    "name": "ipython",
    "version": 3
   },
   "file_extension": ".py",
   "mimetype": "text/x-python",
   "name": "python",
   "nbconvert_exporter": "python",
   "pygments_lexer": "ipython3",
   "version": "3.11.4"
  }
 },
 "nbformat": 4,
 "nbformat_minor": 5
}
